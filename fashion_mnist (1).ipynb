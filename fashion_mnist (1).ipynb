{
 "cells": [
  {
   "cell_type": "code",
   "execution_count": 2,
   "metadata": {
    "id": "ooPxoMVP4a15"
   },
   "outputs": [
    {
     "name": "stderr",
     "output_type": "stream",
     "text": [
      "C:\\Users\\tyagi\\anaconda3\\lib\\site-packages\\scipy\\__init__.py:146: UserWarning: A NumPy version >=1.16.5 and <1.23.0 is required for this version of SciPy (detected version 1.24.3\n",
      "  warnings.warn(f\"A NumPy version >={np_minversion} and <{np_maxversion}\"\n"
     ]
    }
   ],
   "source": [
    "import numpy as np\n",
    "import pandas as pd\n",
    "import matplotlib.pyplot as plt\n",
    "import seaborn as sns"
   ]
  },
  {
   "cell_type": "code",
   "execution_count": 3,
   "metadata": {
    "id": "nCqfwJ1k4tvn"
   },
   "outputs": [],
   "source": [
    "%matplotlib inline"
   ]
  },
  {
   "cell_type": "code",
   "execution_count": 4,
   "metadata": {
    "id": "08_sTJgv4zNh"
   },
   "outputs": [],
   "source": [
    "fashion_train_df= pd.read_csv('fashion-mnist_train.csv')"
   ]
  },
  {
   "cell_type": "code",
   "execution_count": 5,
   "metadata": {
    "id": "nzH17Opt48GA"
   },
   "outputs": [],
   "source": [
    "fashion_test_df = pd.read_csv('fashion-mnist_test.csv')"
   ]
  },
  {
   "cell_type": "code",
   "execution_count": 6,
   "metadata": {
    "colab": {
     "base_uri": "https://localhost:8080/",
     "height": 300
    },
    "id": "S8Jn0K9e5BsI",
    "outputId": "e093c30e-255e-4baa-87e3-27e99ce672b4"
   },
   "outputs": [
    {
     "data": {
      "text/html": [
       "<div>\n",
       "<style scoped>\n",
       "    .dataframe tbody tr th:only-of-type {\n",
       "        vertical-align: middle;\n",
       "    }\n",
       "\n",
       "    .dataframe tbody tr th {\n",
       "        vertical-align: top;\n",
       "    }\n",
       "\n",
       "    .dataframe thead th {\n",
       "        text-align: right;\n",
       "    }\n",
       "</style>\n",
       "<table border=\"1\" class=\"dataframe\">\n",
       "  <thead>\n",
       "    <tr style=\"text-align: right;\">\n",
       "      <th></th>\n",
       "      <th>label</th>\n",
       "      <th>pixel1</th>\n",
       "      <th>pixel2</th>\n",
       "      <th>pixel3</th>\n",
       "      <th>pixel4</th>\n",
       "      <th>pixel5</th>\n",
       "      <th>pixel6</th>\n",
       "      <th>pixel7</th>\n",
       "      <th>pixel8</th>\n",
       "      <th>pixel9</th>\n",
       "      <th>...</th>\n",
       "      <th>pixel775</th>\n",
       "      <th>pixel776</th>\n",
       "      <th>pixel777</th>\n",
       "      <th>pixel778</th>\n",
       "      <th>pixel779</th>\n",
       "      <th>pixel780</th>\n",
       "      <th>pixel781</th>\n",
       "      <th>pixel782</th>\n",
       "      <th>pixel783</th>\n",
       "      <th>pixel784</th>\n",
       "    </tr>\n",
       "  </thead>\n",
       "  <tbody>\n",
       "    <tr>\n",
       "      <th>0</th>\n",
       "      <td>2</td>\n",
       "      <td>0</td>\n",
       "      <td>0</td>\n",
       "      <td>0</td>\n",
       "      <td>0</td>\n",
       "      <td>0</td>\n",
       "      <td>0</td>\n",
       "      <td>0</td>\n",
       "      <td>0</td>\n",
       "      <td>0</td>\n",
       "      <td>...</td>\n",
       "      <td>0</td>\n",
       "      <td>0</td>\n",
       "      <td>0</td>\n",
       "      <td>0</td>\n",
       "      <td>0</td>\n",
       "      <td>0</td>\n",
       "      <td>0</td>\n",
       "      <td>0</td>\n",
       "      <td>0</td>\n",
       "      <td>0</td>\n",
       "    </tr>\n",
       "    <tr>\n",
       "      <th>1</th>\n",
       "      <td>9</td>\n",
       "      <td>0</td>\n",
       "      <td>0</td>\n",
       "      <td>0</td>\n",
       "      <td>0</td>\n",
       "      <td>0</td>\n",
       "      <td>0</td>\n",
       "      <td>0</td>\n",
       "      <td>0</td>\n",
       "      <td>0</td>\n",
       "      <td>...</td>\n",
       "      <td>0</td>\n",
       "      <td>0</td>\n",
       "      <td>0</td>\n",
       "      <td>0</td>\n",
       "      <td>0</td>\n",
       "      <td>0</td>\n",
       "      <td>0</td>\n",
       "      <td>0</td>\n",
       "      <td>0</td>\n",
       "      <td>0</td>\n",
       "    </tr>\n",
       "    <tr>\n",
       "      <th>2</th>\n",
       "      <td>6</td>\n",
       "      <td>0</td>\n",
       "      <td>0</td>\n",
       "      <td>0</td>\n",
       "      <td>0</td>\n",
       "      <td>0</td>\n",
       "      <td>0</td>\n",
       "      <td>0</td>\n",
       "      <td>5</td>\n",
       "      <td>0</td>\n",
       "      <td>...</td>\n",
       "      <td>0</td>\n",
       "      <td>0</td>\n",
       "      <td>0</td>\n",
       "      <td>30</td>\n",
       "      <td>43</td>\n",
       "      <td>0</td>\n",
       "      <td>0</td>\n",
       "      <td>0</td>\n",
       "      <td>0</td>\n",
       "      <td>0</td>\n",
       "    </tr>\n",
       "    <tr>\n",
       "      <th>3</th>\n",
       "      <td>0</td>\n",
       "      <td>0</td>\n",
       "      <td>0</td>\n",
       "      <td>0</td>\n",
       "      <td>1</td>\n",
       "      <td>2</td>\n",
       "      <td>0</td>\n",
       "      <td>0</td>\n",
       "      <td>0</td>\n",
       "      <td>0</td>\n",
       "      <td>...</td>\n",
       "      <td>3</td>\n",
       "      <td>0</td>\n",
       "      <td>0</td>\n",
       "      <td>0</td>\n",
       "      <td>0</td>\n",
       "      <td>1</td>\n",
       "      <td>0</td>\n",
       "      <td>0</td>\n",
       "      <td>0</td>\n",
       "      <td>0</td>\n",
       "    </tr>\n",
       "    <tr>\n",
       "      <th>4</th>\n",
       "      <td>3</td>\n",
       "      <td>0</td>\n",
       "      <td>0</td>\n",
       "      <td>0</td>\n",
       "      <td>0</td>\n",
       "      <td>0</td>\n",
       "      <td>0</td>\n",
       "      <td>0</td>\n",
       "      <td>0</td>\n",
       "      <td>0</td>\n",
       "      <td>...</td>\n",
       "      <td>0</td>\n",
       "      <td>0</td>\n",
       "      <td>0</td>\n",
       "      <td>0</td>\n",
       "      <td>0</td>\n",
       "      <td>0</td>\n",
       "      <td>0</td>\n",
       "      <td>0</td>\n",
       "      <td>0</td>\n",
       "      <td>0</td>\n",
       "    </tr>\n",
       "  </tbody>\n",
       "</table>\n",
       "<p>5 rows × 785 columns</p>\n",
       "</div>"
      ],
      "text/plain": [
       "   label  pixel1  pixel2  pixel3  pixel4  pixel5  pixel6  pixel7  pixel8  \\\n",
       "0      2       0       0       0       0       0       0       0       0   \n",
       "1      9       0       0       0       0       0       0       0       0   \n",
       "2      6       0       0       0       0       0       0       0       5   \n",
       "3      0       0       0       0       1       2       0       0       0   \n",
       "4      3       0       0       0       0       0       0       0       0   \n",
       "\n",
       "   pixel9  ...  pixel775  pixel776  pixel777  pixel778  pixel779  pixel780  \\\n",
       "0       0  ...         0         0         0         0         0         0   \n",
       "1       0  ...         0         0         0         0         0         0   \n",
       "2       0  ...         0         0         0        30        43         0   \n",
       "3       0  ...         3         0         0         0         0         1   \n",
       "4       0  ...         0         0         0         0         0         0   \n",
       "\n",
       "   pixel781  pixel782  pixel783  pixel784  \n",
       "0         0         0         0         0  \n",
       "1         0         0         0         0  \n",
       "2         0         0         0         0  \n",
       "3         0         0         0         0  \n",
       "4         0         0         0         0  \n",
       "\n",
       "[5 rows x 785 columns]"
      ]
     },
     "execution_count": 6,
     "metadata": {},
     "output_type": "execute_result"
    }
   ],
   "source": [
    "fashion_train_df.head()"
   ]
  },
  {
   "cell_type": "code",
   "execution_count": 7,
   "metadata": {
    "colab": {
     "base_uri": "https://localhost:8080/",
     "height": 300
    },
    "id": "KWVUF3NW5E5w",
    "outputId": "edc0dd7b-b2f5-4956-dd11-f442e8904f26"
   },
   "outputs": [
    {
     "data": {
      "text/html": [
       "<div>\n",
       "<style scoped>\n",
       "    .dataframe tbody tr th:only-of-type {\n",
       "        vertical-align: middle;\n",
       "    }\n",
       "\n",
       "    .dataframe tbody tr th {\n",
       "        vertical-align: top;\n",
       "    }\n",
       "\n",
       "    .dataframe thead th {\n",
       "        text-align: right;\n",
       "    }\n",
       "</style>\n",
       "<table border=\"1\" class=\"dataframe\">\n",
       "  <thead>\n",
       "    <tr style=\"text-align: right;\">\n",
       "      <th></th>\n",
       "      <th>label</th>\n",
       "      <th>pixel1</th>\n",
       "      <th>pixel2</th>\n",
       "      <th>pixel3</th>\n",
       "      <th>pixel4</th>\n",
       "      <th>pixel5</th>\n",
       "      <th>pixel6</th>\n",
       "      <th>pixel7</th>\n",
       "      <th>pixel8</th>\n",
       "      <th>pixel9</th>\n",
       "      <th>...</th>\n",
       "      <th>pixel775</th>\n",
       "      <th>pixel776</th>\n",
       "      <th>pixel777</th>\n",
       "      <th>pixel778</th>\n",
       "      <th>pixel779</th>\n",
       "      <th>pixel780</th>\n",
       "      <th>pixel781</th>\n",
       "      <th>pixel782</th>\n",
       "      <th>pixel783</th>\n",
       "      <th>pixel784</th>\n",
       "    </tr>\n",
       "  </thead>\n",
       "  <tbody>\n",
       "    <tr>\n",
       "      <th>59995</th>\n",
       "      <td>9</td>\n",
       "      <td>0</td>\n",
       "      <td>0</td>\n",
       "      <td>0</td>\n",
       "      <td>0</td>\n",
       "      <td>0</td>\n",
       "      <td>0</td>\n",
       "      <td>0</td>\n",
       "      <td>0</td>\n",
       "      <td>0</td>\n",
       "      <td>...</td>\n",
       "      <td>0</td>\n",
       "      <td>0</td>\n",
       "      <td>0</td>\n",
       "      <td>0</td>\n",
       "      <td>0</td>\n",
       "      <td>0</td>\n",
       "      <td>0</td>\n",
       "      <td>0</td>\n",
       "      <td>0</td>\n",
       "      <td>0</td>\n",
       "    </tr>\n",
       "    <tr>\n",
       "      <th>59996</th>\n",
       "      <td>1</td>\n",
       "      <td>0</td>\n",
       "      <td>0</td>\n",
       "      <td>0</td>\n",
       "      <td>0</td>\n",
       "      <td>0</td>\n",
       "      <td>0</td>\n",
       "      <td>0</td>\n",
       "      <td>0</td>\n",
       "      <td>0</td>\n",
       "      <td>...</td>\n",
       "      <td>73</td>\n",
       "      <td>0</td>\n",
       "      <td>0</td>\n",
       "      <td>0</td>\n",
       "      <td>0</td>\n",
       "      <td>0</td>\n",
       "      <td>0</td>\n",
       "      <td>0</td>\n",
       "      <td>0</td>\n",
       "      <td>0</td>\n",
       "    </tr>\n",
       "    <tr>\n",
       "      <th>59997</th>\n",
       "      <td>8</td>\n",
       "      <td>0</td>\n",
       "      <td>0</td>\n",
       "      <td>0</td>\n",
       "      <td>0</td>\n",
       "      <td>0</td>\n",
       "      <td>0</td>\n",
       "      <td>0</td>\n",
       "      <td>0</td>\n",
       "      <td>0</td>\n",
       "      <td>...</td>\n",
       "      <td>160</td>\n",
       "      <td>162</td>\n",
       "      <td>163</td>\n",
       "      <td>135</td>\n",
       "      <td>94</td>\n",
       "      <td>0</td>\n",
       "      <td>0</td>\n",
       "      <td>0</td>\n",
       "      <td>0</td>\n",
       "      <td>0</td>\n",
       "    </tr>\n",
       "    <tr>\n",
       "      <th>59998</th>\n",
       "      <td>8</td>\n",
       "      <td>0</td>\n",
       "      <td>0</td>\n",
       "      <td>0</td>\n",
       "      <td>0</td>\n",
       "      <td>0</td>\n",
       "      <td>0</td>\n",
       "      <td>0</td>\n",
       "      <td>0</td>\n",
       "      <td>0</td>\n",
       "      <td>...</td>\n",
       "      <td>0</td>\n",
       "      <td>0</td>\n",
       "      <td>0</td>\n",
       "      <td>0</td>\n",
       "      <td>0</td>\n",
       "      <td>0</td>\n",
       "      <td>0</td>\n",
       "      <td>0</td>\n",
       "      <td>0</td>\n",
       "      <td>0</td>\n",
       "    </tr>\n",
       "    <tr>\n",
       "      <th>59999</th>\n",
       "      <td>7</td>\n",
       "      <td>0</td>\n",
       "      <td>0</td>\n",
       "      <td>0</td>\n",
       "      <td>0</td>\n",
       "      <td>0</td>\n",
       "      <td>0</td>\n",
       "      <td>0</td>\n",
       "      <td>0</td>\n",
       "      <td>0</td>\n",
       "      <td>...</td>\n",
       "      <td>0</td>\n",
       "      <td>0</td>\n",
       "      <td>0</td>\n",
       "      <td>0</td>\n",
       "      <td>0</td>\n",
       "      <td>0</td>\n",
       "      <td>0</td>\n",
       "      <td>0</td>\n",
       "      <td>0</td>\n",
       "      <td>0</td>\n",
       "    </tr>\n",
       "  </tbody>\n",
       "</table>\n",
       "<p>5 rows × 785 columns</p>\n",
       "</div>"
      ],
      "text/plain": [
       "       label  pixel1  pixel2  pixel3  pixel4  pixel5  pixel6  pixel7  pixel8  \\\n",
       "59995      9       0       0       0       0       0       0       0       0   \n",
       "59996      1       0       0       0       0       0       0       0       0   \n",
       "59997      8       0       0       0       0       0       0       0       0   \n",
       "59998      8       0       0       0       0       0       0       0       0   \n",
       "59999      7       0       0       0       0       0       0       0       0   \n",
       "\n",
       "       pixel9  ...  pixel775  pixel776  pixel777  pixel778  pixel779  \\\n",
       "59995       0  ...         0         0         0         0         0   \n",
       "59996       0  ...        73         0         0         0         0   \n",
       "59997       0  ...       160       162       163       135        94   \n",
       "59998       0  ...         0         0         0         0         0   \n",
       "59999       0  ...         0         0         0         0         0   \n",
       "\n",
       "       pixel780  pixel781  pixel782  pixel783  pixel784  \n",
       "59995         0         0         0         0         0  \n",
       "59996         0         0         0         0         0  \n",
       "59997         0         0         0         0         0  \n",
       "59998         0         0         0         0         0  \n",
       "59999         0         0         0         0         0  \n",
       "\n",
       "[5 rows x 785 columns]"
      ]
     },
     "execution_count": 7,
     "metadata": {},
     "output_type": "execute_result"
    }
   ],
   "source": [
    "fashion_train_df.tail()"
   ]
  },
  {
   "cell_type": "code",
   "execution_count": 8,
   "metadata": {
    "colab": {
     "base_uri": "https://localhost:8080/"
    },
    "id": "5Bd1uKEw5In4",
    "outputId": "bd0c2bf1-9a96-4b44-ec24-69f9fca2ad12"
   },
   "outputs": [
    {
     "data": {
      "text/plain": [
       "(60000, 785)"
      ]
     },
     "execution_count": 8,
     "metadata": {},
     "output_type": "execute_result"
    }
   ],
   "source": [
    "fashion_train_df.shape"
   ]
  },
  {
   "cell_type": "code",
   "execution_count": 9,
   "metadata": {
    "colab": {
     "base_uri": "https://localhost:8080/"
    },
    "id": "1ImHKcZB5LgY",
    "outputId": "0770744d-dc2c-4f28-9ade-1f6e2d4a9178"
   },
   "outputs": [
    {
     "data": {
      "text/plain": [
       "(10000, 785)"
      ]
     },
     "execution_count": 9,
     "metadata": {},
     "output_type": "execute_result"
    }
   ],
   "source": [
    "fashion_test_df.shape"
   ]
  },
  {
   "cell_type": "code",
   "execution_count": 10,
   "metadata": {
    "id": "8yzRp-K15PsQ"
   },
   "outputs": [],
   "source": [
    "training = np.array(fashion_train_df,dtype='float32')\n",
    "testing = np.array(fashion_test_df,dtype='float32')"
   ]
  },
  {
   "cell_type": "code",
   "execution_count": 40,
   "metadata": {
    "colab": {
     "base_uri": "https://localhost:8080/"
    },
    "id": "Mj9EpBV25SNY",
    "outputId": "5f4b1dfd-2363-4850-b875-6ea6e32a7a3a"
   },
   "outputs": [
    {
     "data": {
      "text/plain": [
       "(60000, 785)"
      ]
     },
     "execution_count": 40,
     "metadata": {},
     "output_type": "execute_result"
    }
   ],
   "source": [
    "training.shape"
   ]
  },
  {
   "cell_type": "code",
   "execution_count": 41,
   "metadata": {
    "id": "AutVqnL_5VCw"
   },
   "outputs": [],
   "source": [
    "import random"
   ]
  },
  {
   "cell_type": "code",
   "execution_count": 42,
   "metadata": {
    "colab": {
     "base_uri": "https://localhost:8080/",
     "height": 282
    },
    "id": "QqE3ecVbMHOq",
    "outputId": "af0dd2e6-2f41-4229-e788-2b97dee7d0cd"
   },
   "outputs": [
    {
     "data": {
      "text/plain": [
       "0.0"
      ]
     },
     "execution_count": 42,
     "metadata": {},
     "output_type": "execute_result"
    },
    {
     "data": {
      "image/png": "[encoded data removed]",
      "text/plain": [
       "<Figure size 432x288 with 1 Axes>"
      ]
     },
     "metadata": {
      "needs_background": "light"
     },
     "output_type": "display_data"
    }
   ],
   "source": [
    "i = random.randint(0,60001) \n",
    "plt.imshow(training[i,1:].reshape(28,28)) \n",
    "label = training[i,1] \n",
    "label"
   ]
  },
  {
   "cell_type": "markdown",
   "metadata": {
    "id": "pohsjSwb5YkZ"
   },
   "source": [
    "**i** = random.randint(0,60001)\n",
    "plt.imshow(training[i,1:].reshape(28,28))\n",
    "label = training[i,1] \n",
    "label"
   ]
  },
  {
   "cell_type": "code",
   "execution_count": 13,
   "metadata": {
    "colab": {
     "base_uri": "https://localhost:8080/",
     "height": 966
    },
    "id": "TVwvULA15gRA",
    "outputId": "080a4c5b-5855-4930-ed80-c1532bd40ea8"
   },
   "outputs": [
    {
     "data": {
      "image/png": "[encoded data removed]",
      "text/plain": [
       "<Figure size 1224x1224 with 49 Axes>"
      ]
     },
     "metadata": {
      "needs_background": "light"
     },
     "output_type": "display_data"
    }
   ],
   "source": [
    "W_grid = 7\n",
    "L_grid = 7\n",
    "\n",
    "fig,axes = plt.subplots(L_grid,W_grid,figsize =(17,17))\n",
    "\n",
    "axes = axes.ravel() \n",
    "n_training = len(training) \n",
    "\n",
    "\n",
    "\n",
    "for i in np.arange(0,W_grid*L_grid):\n",
    "        index = np.random.randint(0,n_training)\n",
    "        axes[i].imshow(training[index,1:].reshape((28,28)))\n",
    "        axes[i].set_title(training[index,0],fontsize = 8)\n",
    "        axes[i].axis('off')\n",
    "        \n",
    "plt.subplots_adjust(hspace=0.4)  "
   ]
  },
  {
   "cell_type": "code",
   "execution_count": 44,
   "metadata": {
    "id": "C-0rO0Uu5keI"
   },
   "outputs": [
    {
     "name": "stdout",
     "output_type": "stream",
     "text": [
      "[[0. 0. 0. ... 0. 0. 0.]\n",
      " [0. 0. 0. ... 0. 0. 0.]\n",
      " [0. 0. 0. ... 0. 0. 0.]\n",
      " ...\n",
      " [0. 0. 0. ... 0. 0. 0.]\n",
      " [0. 0. 0. ... 0. 0. 0.]\n",
      " [0. 0. 0. ... 0. 0. 0.]]\n",
      "[2. 9. 6. ... 8. 8. 7.]\n",
      "[[0.         0.         0.         ... 0.         0.         0.        ]\n",
      " [0.         0.         0.         ... 0.         0.         0.        ]\n",
      " [0.         0.         0.         ... 0.         0.         0.        ]\n",
      " ...\n",
      " [0.         0.         0.         ... 0.         0.00392157 0.        ]\n",
      " [0.         0.00392157 0.01176471 ... 0.         0.         0.        ]\n",
      " [0.         0.         0.         ... 0.         0.         0.        ]]\n",
      "[0. 1. 2. ... 8. 8. 1.]\n"
     ]
    }
   ],
   "source": [
    "X_train = training[:,1:]/255\n",
    "print(X_train)\n",
    "y_train = training[:,0]\n",
    "print(y_train)\n",
    "X_test = testing[:,1:]/255\n",
    "print(X_test)\n",
    "y_test = testing[:,0]\n",
    "print(y_test)"
   ]
  },
  {
   "cell_type": "code",
   "execution_count": 45,
   "metadata": {
    "id": "J9cSUEiU5sKZ"
   },
   "outputs": [],
   "source": [
    "from sklearn.model_selection import train_test_split\n",
    "X_train, X_validate, y_train, y_validate = train_test_split(X_train, y_train,test_size = 0.2,random_state = 12345) "
   ]
  },
  {
   "cell_type": "code",
   "execution_count": 46,
   "metadata": {
    "id": "bPQfPGZs5w1H"
   },
   "outputs": [],
   "source": [
    "X_train = X_train.reshape(X_train.shape[0],*(28,28,1))\n",
    "X_test = X_test.reshape(X_test.shape[0],*(28,28,1))\n",
    "X_validate = X_validate.reshape(X_validate.shape[0],*(28,28,1))"
   ]
  },
  {
   "cell_type": "code",
   "execution_count": 47,
   "metadata": {
    "colab": {
     "base_uri": "https://localhost:8080/"
    },
    "id": "tozw48m551s5",
    "outputId": "6ff6ba33-e885-4825-9346-d5a4ffc42c32"
   },
   "outputs": [
    {
     "data": {
      "text/plain": [
       "(48000, 28, 28, 1)"
      ]
     },
     "execution_count": 47,
     "metadata": {},
     "output_type": "execute_result"
    }
   ],
   "source": [
    "X_train.shape\n"
   ]
  },
  {
   "cell_type": "code",
   "execution_count": 48,
   "metadata": {
    "colab": {
     "base_uri": "https://localhost:8080/"
    },
    "id": "Gu-96aNG591o",
    "outputId": "79580ce7-7f0c-4044-c4bb-0aded3289908"
   },
   "outputs": [
    {
     "data": {
      "text/plain": [
       "(10000, 28, 28, 1)"
      ]
     },
     "execution_count": 48,
     "metadata": {},
     "output_type": "execute_result"
    }
   ],
   "source": [
    "X_test.shape"
   ]
  },
  {
   "cell_type": "code",
   "execution_count": 49,
   "metadata": {
    "colab": {
     "base_uri": "https://localhost:8080/"
    },
    "id": "LDGYbFcm6ALB",
    "outputId": "da616432-f524-40a2-9a95-7407967c9481"
   },
   "outputs": [
    {
     "data": {
      "text/plain": [
       "(12000, 28, 28, 1)"
      ]
     },
     "execution_count": 49,
     "metadata": {},
     "output_type": "execute_result"
    }
   ],
   "source": [
    "X_validate.shape"
   ]
  },
  {
   "cell_type": "code",
   "execution_count": 50,
   "metadata": {
    "id": "GCCnNuCj6DmA"
   },
   "outputs": [],
   "source": [
    "import tensorflow as tf\n",
    "from tensorflow import keras\n",
    "from tensorflow.keras.models import Sequential\n",
    "from tensorflow.keras.layers import Conv2D,MaxPooling2D,Dense,Flatten,Dropout\n",
    "from tensorflow.keras.optimizers import Adam\n",
    "from tensorflow.keras.callbacks import TensorBoard"
   ]
  },
  {
   "cell_type": "code",
   "execution_count": 55,
   "metadata": {
    "id": "zHYu_wiP6IAp"
   },
   "outputs": [],
   "source": [
    "cnn_model = Sequential()\n",
    "cnn_model.add(Conv2D(32,3,3,input_shape = (28,28,1),activation = 'relu'))\n",
    "cnn_model.add(MaxPooling2D(pool_size= (2,2)))\n",
    "cnn_model.add(Flatten())\n",
    "cnn_model.add(Dense(32,activation = 'relu'))\n",
    "cnn_model.add(Dense(10,activation = 'sigmoid'))\n",
    "cnn_model.compile(loss ='sparse_categorical_crossentropy',optimizer = Adam(learning_rate=0.001),metrics= ['accuracy'])\n"
   ]
  },
  {
   "cell_type": "code",
   "execution_count": 56,
   "metadata": {
    "id": "7GtLdxcj6g1B"
   },
   "outputs": [],
   "source": [
    "epochs = 200\n"
   ]
  },
  {
   "cell_type": "code",
   "execution_count": 57,
   "metadata": {
    "colab": {
     "base_uri": "https://localhost:8080/"
    },
    "id": "kkc-K1QY6kLA",
    "outputId": "4c9cfda8-cd4a-41e0-e552-3e2dce3ac182"
   },
   "outputs": [
    {
     "name": "stdout",
     "output_type": "stream",
     "text": [
      "Epoch 1/200\n",
      "94/94 [==============================] - 6s 40ms/step - loss: 1.4287 - accuracy: 0.5486 - val_loss: 0.8504 - val_accuracy: 0.7151\n",
      "Epoch 2/200\n",
      "94/94 [==============================] - 3s 34ms/step - loss: 0.7336 - accuracy: 0.7426 - val_loss: 0.6619 - val_accuracy: 0.7623\n",
      "Epoch 3/200\n",
      "94/94 [==============================] - 3s 33ms/step - loss: 0.6227 - accuracy: 0.7767 - val_loss: 0.5925 - val_accuracy: 0.7866\n",
      "Epoch 4/200\n",
      "94/94 [==============================] - 3s 33ms/step - loss: 0.5738 - accuracy: 0.7924 - val_loss: 0.5658 - val_accuracy: 0.7951\n",
      "Epoch 5/200\n",
      "94/94 [==============================] - 2s 24ms/step - loss: 0.5410 - accuracy: 0.8055 - val_loss: 0.5289 - val_accuracy: 0.8090\n",
      "Epoch 6/200\n",
      "94/94 [==============================] - 2s 25ms/step - loss: 0.5187 - accuracy: 0.8124 - val_loss: 0.5187 - val_accuracy: 0.8101\n",
      "Epoch 7/200\n",
      "94/94 [==============================] - 2s 24ms/step - loss: 0.5009 - accuracy: 0.8190 - val_loss: 0.4988 - val_accuracy: 0.8203\n",
      "Epoch 8/200\n",
      "94/94 [==============================] - 2s 24ms/step - loss: 0.4869 - accuracy: 0.8239 - val_loss: 0.4864 - val_accuracy: 0.8240\n",
      "Epoch 9/200\n",
      "94/94 [==============================] - 2s 24ms/step - loss: 0.4753 - accuracy: 0.8279 - val_loss: 0.4742 - val_accuracy: 0.8261\n",
      "Epoch 10/200\n",
      "94/94 [==============================] - 2s 24ms/step - loss: 0.4649 - accuracy: 0.8318 - val_loss: 0.4673 - val_accuracy: 0.8282\n",
      "Epoch 11/200\n",
      "94/94 [==============================] - 2s 23ms/step - loss: 0.4537 - accuracy: 0.8353 - val_loss: 0.4579 - val_accuracy: 0.8347\n",
      "Epoch 12/200\n",
      "94/94 [==============================] - 2s 26ms/step - loss: 0.4446 - accuracy: 0.8379 - val_loss: 0.4514 - val_accuracy: 0.8364\n",
      "Epoch 13/200\n",
      "94/94 [==============================] - 2s 25ms/step - loss: 0.4404 - accuracy: 0.8401 - val_loss: 0.4444 - val_accuracy: 0.8389\n",
      "Epoch 14/200\n",
      "94/94 [==============================] - 2s 24ms/step - loss: 0.4321 - accuracy: 0.8443 - val_loss: 0.4385 - val_accuracy: 0.8427\n",
      "Epoch 15/200\n",
      "94/94 [==============================] - 2s 21ms/step - loss: 0.4279 - accuracy: 0.8446 - val_loss: 0.4330 - val_accuracy: 0.8436\n",
      "Epoch 16/200\n",
      "94/94 [==============================] - 2s 20ms/step - loss: 0.4214 - accuracy: 0.8472 - val_loss: 0.4458 - val_accuracy: 0.8385\n",
      "Epoch 17/200\n",
      "94/94 [==============================] - 2s 21ms/step - loss: 0.4160 - accuracy: 0.8497 - val_loss: 0.4290 - val_accuracy: 0.8452\n",
      "Epoch 18/200\n",
      "94/94 [==============================] - 2s 23ms/step - loss: 0.4121 - accuracy: 0.8496 - val_loss: 0.4217 - val_accuracy: 0.8471\n",
      "Epoch 19/200\n",
      "94/94 [==============================] - 2s 23ms/step - loss: 0.4097 - accuracy: 0.8507 - val_loss: 0.4198 - val_accuracy: 0.8469\n",
      "Epoch 20/200\n",
      "94/94 [==============================] - 2s 24ms/step - loss: 0.4044 - accuracy: 0.8536 - val_loss: 0.4155 - val_accuracy: 0.8489\n",
      "Epoch 21/200\n",
      "94/94 [==============================] - 2s 24ms/step - loss: 0.4020 - accuracy: 0.8548 - val_loss: 0.4156 - val_accuracy: 0.8497\n",
      "Epoch 22/200\n",
      "94/94 [==============================] - 2s 23ms/step - loss: 0.3975 - accuracy: 0.8565 - val_loss: 0.4076 - val_accuracy: 0.8532\n",
      "Epoch 23/200\n",
      "94/94 [==============================] - 2s 24ms/step - loss: 0.3931 - accuracy: 0.8568 - val_loss: 0.4094 - val_accuracy: 0.8525\n",
      "Epoch 24/200\n",
      "94/94 [==============================] - 2s 26ms/step - loss: 0.3911 - accuracy: 0.8569 - val_loss: 0.4065 - val_accuracy: 0.8513\n",
      "Epoch 25/200\n",
      "94/94 [==============================] - 2s 24ms/step - loss: 0.3873 - accuracy: 0.8591 - val_loss: 0.4039 - val_accuracy: 0.8533\n",
      "Epoch 26/200\n",
      "94/94 [==============================] - 2s 25ms/step - loss: 0.3852 - accuracy: 0.8598 - val_loss: 0.4006 - val_accuracy: 0.8547\n",
      "Epoch 27/200\n",
      "94/94 [==============================] - 2s 25ms/step - loss: 0.3820 - accuracy: 0.8613 - val_loss: 0.3999 - val_accuracy: 0.8548\n",
      "Epoch 28/200\n",
      "94/94 [==============================] - 2s 25ms/step - loss: 0.3772 - accuracy: 0.8621 - val_loss: 0.4006 - val_accuracy: 0.8551\n",
      "Epoch 29/200\n",
      "94/94 [==============================] - 2s 24ms/step - loss: 0.3761 - accuracy: 0.8633 - val_loss: 0.3947 - val_accuracy: 0.8583\n",
      "Epoch 30/200\n",
      "94/94 [==============================] - 2s 24ms/step - loss: 0.3737 - accuracy: 0.8648 - val_loss: 0.3978 - val_accuracy: 0.8548\n",
      "Epoch 31/200\n",
      "94/94 [==============================] - 2s 24ms/step - loss: 0.3704 - accuracy: 0.8657 - val_loss: 0.3921 - val_accuracy: 0.8568\n",
      "Epoch 32/200\n",
      "94/94 [==============================] - 2s 25ms/step - loss: 0.3678 - accuracy: 0.8658 - val_loss: 0.3881 - val_accuracy: 0.8596\n",
      "Epoch 33/200\n",
      "94/94 [==============================] - 2s 25ms/step - loss: 0.3651 - accuracy: 0.8674 - val_loss: 0.3928 - val_accuracy: 0.8584\n",
      "Epoch 34/200\n",
      "94/94 [==============================] - 2s 26ms/step - loss: 0.3676 - accuracy: 0.8658 - val_loss: 0.3863 - val_accuracy: 0.8595\n",
      "Epoch 35/200\n",
      "94/94 [==============================] - 2s 24ms/step - loss: 0.3624 - accuracy: 0.8682 - val_loss: 0.3860 - val_accuracy: 0.8606\n",
      "Epoch 36/200\n",
      "94/94 [==============================] - 2s 24ms/step - loss: 0.3637 - accuracy: 0.8674 - val_loss: 0.3891 - val_accuracy: 0.8594\n",
      "Epoch 37/200\n",
      "94/94 [==============================] - 2s 23ms/step - loss: 0.3601 - accuracy: 0.8681 - val_loss: 0.3852 - val_accuracy: 0.8607\n",
      "Epoch 38/200\n",
      "94/94 [==============================] - 2s 25ms/step - loss: 0.3568 - accuracy: 0.8705 - val_loss: 0.3830 - val_accuracy: 0.8606\n",
      "Epoch 39/200\n",
      "94/94 [==============================] - 2s 24ms/step - loss: 0.3567 - accuracy: 0.8700 - val_loss: 0.3809 - val_accuracy: 0.8603\n",
      "Epoch 40/200\n",
      "94/94 [==============================] - 2s 24ms/step - loss: 0.3536 - accuracy: 0.8706 - val_loss: 0.3798 - val_accuracy: 0.8617\n",
      "Epoch 41/200\n",
      "94/94 [==============================] - 2s 24ms/step - loss: 0.3524 - accuracy: 0.8723 - val_loss: 0.3774 - val_accuracy: 0.8617\n",
      "Epoch 42/200\n",
      "94/94 [==============================] - 2s 24ms/step - loss: 0.3514 - accuracy: 0.8724 - val_loss: 0.3762 - val_accuracy: 0.8622\n",
      "Epoch 43/200\n",
      "94/94 [==============================] - 2s 24ms/step - loss: 0.3500 - accuracy: 0.8719 - val_loss: 0.3797 - val_accuracy: 0.8608\n",
      "Epoch 44/200\n",
      "94/94 [==============================] - 2s 25ms/step - loss: 0.3511 - accuracy: 0.8718 - val_loss: 0.3743 - val_accuracy: 0.8637\n",
      "Epoch 45/200\n",
      "94/94 [==============================] - 2s 25ms/step - loss: 0.3463 - accuracy: 0.8737 - val_loss: 0.3778 - val_accuracy: 0.8627\n",
      "Epoch 46/200\n",
      "94/94 [==============================] - 2s 25ms/step - loss: 0.3463 - accuracy: 0.8730 - val_loss: 0.3751 - val_accuracy: 0.8628\n",
      "Epoch 47/200\n",
      "94/94 [==============================] - 2s 24ms/step - loss: 0.3431 - accuracy: 0.8755 - val_loss: 0.3750 - val_accuracy: 0.8628\n",
      "Epoch 48/200\n",
      "94/94 [==============================] - 2s 25ms/step - loss: 0.3425 - accuracy: 0.8749 - val_loss: 0.3734 - val_accuracy: 0.8628\n",
      "Epoch 49/200\n",
      "94/94 [==============================] - 2s 24ms/step - loss: 0.3441 - accuracy: 0.8752 - val_loss: 0.3723 - val_accuracy: 0.8633\n",
      "Epoch 50/200\n",
      "94/94 [==============================] - 2s 24ms/step - loss: 0.3385 - accuracy: 0.8766 - val_loss: 0.3688 - val_accuracy: 0.8651\n",
      "Epoch 51/200\n",
      "94/94 [==============================] - 2s 23ms/step - loss: 0.3390 - accuracy: 0.8766 - val_loss: 0.3767 - val_accuracy: 0.8621\n",
      "Epoch 52/200\n",
      "94/94 [==============================] - 2s 23ms/step - loss: 0.3374 - accuracy: 0.8772 - val_loss: 0.3667 - val_accuracy: 0.8660\n",
      "Epoch 53/200\n",
      "94/94 [==============================] - 2s 19ms/step - loss: 0.3371 - accuracy: 0.8766 - val_loss: 0.3664 - val_accuracy: 0.8674\n",
      "Epoch 54/200\n",
      "94/94 [==============================] - 2s 21ms/step - loss: 0.3349 - accuracy: 0.8781 - val_loss: 0.3655 - val_accuracy: 0.8666\n",
      "Epoch 55/200\n",
      "94/94 [==============================] - 2s 26ms/step - loss: 0.3344 - accuracy: 0.8777 - val_loss: 0.3735 - val_accuracy: 0.8633\n",
      "Epoch 56/200\n",
      "94/94 [==============================] - 2s 26ms/step - loss: 0.3336 - accuracy: 0.8785 - val_loss: 0.3752 - val_accuracy: 0.8633\n",
      "Epoch 57/200\n",
      "94/94 [==============================] - 2s 26ms/step - loss: 0.3310 - accuracy: 0.8791 - val_loss: 0.3657 - val_accuracy: 0.8667\n",
      "Epoch 58/200\n",
      "94/94 [==============================] - 2s 27ms/step - loss: 0.3306 - accuracy: 0.8802 - val_loss: 0.3687 - val_accuracy: 0.8651\n",
      "Epoch 59/200\n",
      "94/94 [==============================] - 2s 22ms/step - loss: 0.3272 - accuracy: 0.8815 - val_loss: 0.3637 - val_accuracy: 0.8662\n",
      "Epoch 60/200\n",
      "94/94 [==============================] - 2s 21ms/step - loss: 0.3277 - accuracy: 0.8806 - val_loss: 0.3625 - val_accuracy: 0.8673\n",
      "Epoch 61/200\n",
      "94/94 [==============================] - 2s 25ms/step - loss: 0.3270 - accuracy: 0.8808 - val_loss: 0.3663 - val_accuracy: 0.8647\n",
      "Epoch 62/200\n",
      "94/94 [==============================] - 2s 25ms/step - loss: 0.3291 - accuracy: 0.8800 - val_loss: 0.3809 - val_accuracy: 0.8584\n",
      "Epoch 63/200\n",
      "94/94 [==============================] - 2s 26ms/step - loss: 0.3260 - accuracy: 0.8812 - val_loss: 0.3709 - val_accuracy: 0.8647\n",
      "Epoch 64/200\n",
      "94/94 [==============================] - 2s 22ms/step - loss: 0.3236 - accuracy: 0.8844 - val_loss: 0.3622 - val_accuracy: 0.8682\n",
      "Epoch 65/200\n",
      "94/94 [==============================] - 3s 33ms/step - loss: 0.3234 - accuracy: 0.8827 - val_loss: 0.3626 - val_accuracy: 0.8673\n",
      "Epoch 66/200\n",
      "94/94 [==============================] - 3s 33ms/step - loss: 0.3214 - accuracy: 0.8834 - val_loss: 0.3598 - val_accuracy: 0.8682\n",
      "Epoch 67/200\n",
      "94/94 [==============================] - 3s 35ms/step - loss: 0.3217 - accuracy: 0.8827 - val_loss: 0.3630 - val_accuracy: 0.8662\n",
      "Epoch 68/200\n",
      "94/94 [==============================] - 3s 36ms/step - loss: 0.3199 - accuracy: 0.8832 - val_loss: 0.3649 - val_accuracy: 0.8660\n",
      "Epoch 69/200\n",
      "94/94 [==============================] - 3s 33ms/step - loss: 0.3186 - accuracy: 0.8849 - val_loss: 0.3612 - val_accuracy: 0.8687\n",
      "Epoch 70/200\n",
      "94/94 [==============================] - 2s 26ms/step - loss: 0.3175 - accuracy: 0.8847 - val_loss: 0.3619 - val_accuracy: 0.8682\n",
      "Epoch 71/200\n",
      "94/94 [==============================] - 2s 23ms/step - loss: 0.3153 - accuracy: 0.8858 - val_loss: 0.3659 - val_accuracy: 0.8670\n",
      "Epoch 72/200\n",
      "94/94 [==============================] - 2s 21ms/step - loss: 0.3152 - accuracy: 0.8863 - val_loss: 0.3585 - val_accuracy: 0.8687\n",
      "Epoch 73/200\n",
      "94/94 [==============================] - 2s 21ms/step - loss: 0.3141 - accuracy: 0.8858 - val_loss: 0.3592 - val_accuracy: 0.8703\n",
      "Epoch 74/200\n",
      "94/94 [==============================] - 2s 24ms/step - loss: 0.3140 - accuracy: 0.8860 - val_loss: 0.3573 - val_accuracy: 0.8696\n",
      "Epoch 75/200\n",
      "94/94 [==============================] - 2s 24ms/step - loss: 0.3143 - accuracy: 0.8857 - val_loss: 0.3592 - val_accuracy: 0.8680\n",
      "Epoch 76/200\n",
      "94/94 [==============================] - 2s 24ms/step - loss: 0.3129 - accuracy: 0.8867 - val_loss: 0.3637 - val_accuracy: 0.8662\n",
      "Epoch 77/200\n",
      "94/94 [==============================] - 2s 24ms/step - loss: 0.3110 - accuracy: 0.8873 - val_loss: 0.3596 - val_accuracy: 0.8679\n",
      "Epoch 78/200\n",
      "94/94 [==============================] - 2s 24ms/step - loss: 0.3104 - accuracy: 0.8869 - val_loss: 0.3567 - val_accuracy: 0.8696\n",
      "Epoch 79/200\n",
      "94/94 [==============================] - 2s 23ms/step - loss: 0.3092 - accuracy: 0.8878 - val_loss: 0.3615 - val_accuracy: 0.8675\n",
      "Epoch 80/200\n",
      "94/94 [==============================] - 2s 23ms/step - loss: 0.3090 - accuracy: 0.8880 - val_loss: 0.3566 - val_accuracy: 0.8692\n",
      "Epoch 81/200\n",
      "94/94 [==============================] - 2s 23ms/step - loss: 0.3090 - accuracy: 0.8871 - val_loss: 0.3653 - val_accuracy: 0.8666\n",
      "Epoch 82/200\n",
      "94/94 [==============================] - 2s 24ms/step - loss: 0.3093 - accuracy: 0.8878 - val_loss: 0.3547 - val_accuracy: 0.8712\n",
      "Epoch 83/200\n",
      "94/94 [==============================] - 2s 24ms/step - loss: 0.3066 - accuracy: 0.8888 - val_loss: 0.3621 - val_accuracy: 0.8675\n",
      "Epoch 84/200\n",
      "94/94 [==============================] - 2s 23ms/step - loss: 0.3067 - accuracy: 0.8881 - val_loss: 0.3638 - val_accuracy: 0.8652\n",
      "Epoch 85/200\n",
      "94/94 [==============================] - 2s 24ms/step - loss: 0.3064 - accuracy: 0.8884 - val_loss: 0.3619 - val_accuracy: 0.8691\n",
      "Epoch 86/200\n",
      "94/94 [==============================] - 2s 24ms/step - loss: 0.3047 - accuracy: 0.8899 - val_loss: 0.3577 - val_accuracy: 0.8676\n",
      "Epoch 87/200\n",
      "94/94 [==============================] - 2s 24ms/step - loss: 0.3046 - accuracy: 0.8903 - val_loss: 0.3540 - val_accuracy: 0.8712\n",
      "Epoch 88/200\n",
      "94/94 [==============================] - 2s 24ms/step - loss: 0.3025 - accuracy: 0.8899 - val_loss: 0.3608 - val_accuracy: 0.8673\n",
      "Epoch 89/200\n",
      "94/94 [==============================] - 3s 28ms/step - loss: 0.3031 - accuracy: 0.8903 - val_loss: 0.3569 - val_accuracy: 0.8701\n",
      "Epoch 90/200\n",
      "94/94 [==============================] - 2s 24ms/step - loss: 0.3009 - accuracy: 0.8906 - val_loss: 0.3558 - val_accuracy: 0.8699\n",
      "Epoch 91/200\n",
      "94/94 [==============================] - 2s 24ms/step - loss: 0.3016 - accuracy: 0.8902 - val_loss: 0.3579 - val_accuracy: 0.8673\n",
      "Epoch 92/200\n",
      "94/94 [==============================] - 2s 24ms/step - loss: 0.2987 - accuracy: 0.8908 - val_loss: 0.3570 - val_accuracy: 0.8690\n",
      "Epoch 93/200\n",
      "94/94 [==============================] - 3s 30ms/step - loss: 0.2996 - accuracy: 0.8913 - val_loss: 0.3545 - val_accuracy: 0.8717\n",
      "Epoch 94/200\n",
      "94/94 [==============================] - 3s 31ms/step - loss: 0.2991 - accuracy: 0.8908 - val_loss: 0.3575 - val_accuracy: 0.8680\n",
      "Epoch 95/200\n",
      "94/94 [==============================] - 2s 24ms/step - loss: 0.2985 - accuracy: 0.8912 - val_loss: 0.3576 - val_accuracy: 0.8700\n",
      "Epoch 96/200\n",
      "94/94 [==============================] - 2s 23ms/step - loss: 0.2990 - accuracy: 0.8913 - val_loss: 0.3583 - val_accuracy: 0.8676\n",
      "Epoch 97/200\n",
      "94/94 [==============================] - 2s 21ms/step - loss: 0.2989 - accuracy: 0.8912 - val_loss: 0.3605 - val_accuracy: 0.8698\n",
      "Epoch 98/200\n",
      "94/94 [==============================] - 2s 19ms/step - loss: 0.2955 - accuracy: 0.8922 - val_loss: 0.3530 - val_accuracy: 0.8707\n",
      "Epoch 99/200\n",
      "94/94 [==============================] - 2s 20ms/step - loss: 0.2943 - accuracy: 0.8931 - val_loss: 0.3556 - val_accuracy: 0.8697\n",
      "Epoch 100/200\n",
      "94/94 [==============================] - 2s 20ms/step - loss: 0.2952 - accuracy: 0.8925 - val_loss: 0.3543 - val_accuracy: 0.8712\n",
      "Epoch 101/200\n",
      "94/94 [==============================] - 2s 18ms/step - loss: 0.2936 - accuracy: 0.8927 - val_loss: 0.3584 - val_accuracy: 0.8698\n",
      "Epoch 102/200\n",
      "94/94 [==============================] - 2s 19ms/step - loss: 0.2938 - accuracy: 0.8936 - val_loss: 0.3541 - val_accuracy: 0.8714\n",
      "Epoch 103/200\n",
      "94/94 [==============================] - 2s 19ms/step - loss: 0.2916 - accuracy: 0.8942 - val_loss: 0.3572 - val_accuracy: 0.8693\n",
      "Epoch 104/200\n",
      "94/94 [==============================] - 2s 19ms/step - loss: 0.2926 - accuracy: 0.8935 - val_loss: 0.3561 - val_accuracy: 0.8705\n",
      "Epoch 105/200\n",
      "94/94 [==============================] - 2s 21ms/step - loss: 0.2907 - accuracy: 0.8949 - val_loss: 0.3538 - val_accuracy: 0.8696\n",
      "Epoch 106/200\n",
      "94/94 [==============================] - 2s 19ms/step - loss: 0.2904 - accuracy: 0.8939 - val_loss: 0.3612 - val_accuracy: 0.8677\n",
      "Epoch 107/200\n",
      "94/94 [==============================] - 2s 22ms/step - loss: 0.2902 - accuracy: 0.8940 - val_loss: 0.3551 - val_accuracy: 0.8704\n",
      "Epoch 108/200\n",
      "94/94 [==============================] - 2s 22ms/step - loss: 0.2902 - accuracy: 0.8939 - val_loss: 0.3534 - val_accuracy: 0.8706\n",
      "Epoch 109/200\n",
      "94/94 [==============================] - 2s 21ms/step - loss: 0.2903 - accuracy: 0.8941 - val_loss: 0.3577 - val_accuracy: 0.8697\n",
      "Epoch 110/200\n",
      "94/94 [==============================] - 2s 20ms/step - loss: 0.2894 - accuracy: 0.8945 - val_loss: 0.3581 - val_accuracy: 0.8702\n",
      "Epoch 111/200\n",
      "94/94 [==============================] - 2s 21ms/step - loss: 0.2873 - accuracy: 0.8955 - val_loss: 0.3657 - val_accuracy: 0.8664\n",
      "Epoch 112/200\n",
      "94/94 [==============================] - 2s 21ms/step - loss: 0.2885 - accuracy: 0.8943 - val_loss: 0.3576 - val_accuracy: 0.8705\n",
      "Epoch 113/200\n",
      "94/94 [==============================] - 2s 22ms/step - loss: 0.2863 - accuracy: 0.8954 - val_loss: 0.3559 - val_accuracy: 0.8698\n",
      "Epoch 114/200\n",
      "94/94 [==============================] - 2s 22ms/step - loss: 0.2866 - accuracy: 0.8954 - val_loss: 0.3555 - val_accuracy: 0.8700\n",
      "Epoch 115/200\n"
     ]
    },
    {
     "name": "stdout",
     "output_type": "stream",
     "text": [
      "94/94 [==============================] - 2s 21ms/step - loss: 0.2878 - accuracy: 0.8947 - val_loss: 0.3572 - val_accuracy: 0.8718\n",
      "Epoch 116/200\n",
      "94/94 [==============================] - 2s 22ms/step - loss: 0.2864 - accuracy: 0.8963 - val_loss: 0.3603 - val_accuracy: 0.8683\n",
      "Epoch 117/200\n",
      "94/94 [==============================] - 2s 22ms/step - loss: 0.2852 - accuracy: 0.8959 - val_loss: 0.3553 - val_accuracy: 0.8710\n",
      "Epoch 118/200\n",
      "94/94 [==============================] - 2s 26ms/step - loss: 0.2841 - accuracy: 0.8966 - val_loss: 0.3571 - val_accuracy: 0.8699\n",
      "Epoch 119/200\n",
      "94/94 [==============================] - 2s 24ms/step - loss: 0.2846 - accuracy: 0.8966 - val_loss: 0.3537 - val_accuracy: 0.8708\n",
      "Epoch 120/200\n",
      "94/94 [==============================] - 2s 24ms/step - loss: 0.2832 - accuracy: 0.8964 - val_loss: 0.3565 - val_accuracy: 0.8693\n",
      "Epoch 121/200\n",
      "94/94 [==============================] - 2s 24ms/step - loss: 0.2820 - accuracy: 0.8978 - val_loss: 0.3556 - val_accuracy: 0.8711\n",
      "Epoch 122/200\n",
      "94/94 [==============================] - 2s 25ms/step - loss: 0.2819 - accuracy: 0.8972 - val_loss: 0.3551 - val_accuracy: 0.8697\n",
      "Epoch 123/200\n",
      "94/94 [==============================] - 2s 24ms/step - loss: 0.2835 - accuracy: 0.8965 - val_loss: 0.3515 - val_accuracy: 0.8714\n",
      "Epoch 124/200\n",
      "94/94 [==============================] - 2s 24ms/step - loss: 0.2823 - accuracy: 0.8972 - val_loss: 0.3524 - val_accuracy: 0.8711\n",
      "Epoch 125/200\n",
      "94/94 [==============================] - 2s 23ms/step - loss: 0.2798 - accuracy: 0.8984 - val_loss: 0.3526 - val_accuracy: 0.8712\n",
      "Epoch 126/200\n",
      "94/94 [==============================] - 2s 23ms/step - loss: 0.2801 - accuracy: 0.8981 - val_loss: 0.3605 - val_accuracy: 0.8703\n",
      "Epoch 127/200\n",
      "94/94 [==============================] - 2s 23ms/step - loss: 0.2826 - accuracy: 0.8966 - val_loss: 0.3577 - val_accuracy: 0.8700\n",
      "Epoch 128/200\n",
      "94/94 [==============================] - 2s 23ms/step - loss: 0.2776 - accuracy: 0.8988 - val_loss: 0.3630 - val_accuracy: 0.8692\n",
      "Epoch 129/200\n",
      "94/94 [==============================] - 2s 25ms/step - loss: 0.2785 - accuracy: 0.8990 - val_loss: 0.3552 - val_accuracy: 0.8728\n",
      "Epoch 130/200\n",
      "94/94 [==============================] - 2s 25ms/step - loss: 0.2787 - accuracy: 0.8988 - val_loss: 0.3621 - val_accuracy: 0.8709\n",
      "Epoch 131/200\n",
      "94/94 [==============================] - 3s 32ms/step - loss: 0.2783 - accuracy: 0.8982 - val_loss: 0.3579 - val_accuracy: 0.8698\n",
      "Epoch 132/200\n",
      "94/94 [==============================] - 2s 25ms/step - loss: 0.2769 - accuracy: 0.8987 - val_loss: 0.3538 - val_accuracy: 0.8730\n",
      "Epoch 133/200\n",
      "94/94 [==============================] - 2s 23ms/step - loss: 0.2770 - accuracy: 0.8985 - val_loss: 0.3518 - val_accuracy: 0.8702\n",
      "Epoch 134/200\n",
      "94/94 [==============================] - 2s 23ms/step - loss: 0.2760 - accuracy: 0.8990 - val_loss: 0.3632 - val_accuracy: 0.8689\n",
      "Epoch 135/200\n",
      "94/94 [==============================] - 2s 21ms/step - loss: 0.2757 - accuracy: 0.8996 - val_loss: 0.3579 - val_accuracy: 0.8698\n",
      "Epoch 136/200\n",
      "94/94 [==============================] - 2s 20ms/step - loss: 0.2761 - accuracy: 0.8993 - val_loss: 0.3589 - val_accuracy: 0.8698\n",
      "Epoch 137/200\n",
      "94/94 [==============================] - 2s 21ms/step - loss: 0.2752 - accuracy: 0.8997 - val_loss: 0.3596 - val_accuracy: 0.8714\n",
      "Epoch 138/200\n",
      "94/94 [==============================] - 2s 21ms/step - loss: 0.2734 - accuracy: 0.8997 - val_loss: 0.3619 - val_accuracy: 0.8699\n",
      "Epoch 139/200\n",
      "94/94 [==============================] - 2s 22ms/step - loss: 0.2736 - accuracy: 0.9007 - val_loss: 0.3532 - val_accuracy: 0.8712\n",
      "Epoch 140/200\n",
      "94/94 [==============================] - 2s 22ms/step - loss: 0.2735 - accuracy: 0.9002 - val_loss: 0.3540 - val_accuracy: 0.8732\n",
      "Epoch 141/200\n",
      "94/94 [==============================] - 2s 21ms/step - loss: 0.2720 - accuracy: 0.9016 - val_loss: 0.3555 - val_accuracy: 0.8728\n",
      "Epoch 142/200\n",
      "94/94 [==============================] - 2s 20ms/step - loss: 0.2742 - accuracy: 0.8998 - val_loss: 0.3581 - val_accuracy: 0.8734\n",
      "Epoch 143/200\n",
      "94/94 [==============================] - 2s 24ms/step - loss: 0.2725 - accuracy: 0.9003 - val_loss: 0.3566 - val_accuracy: 0.8712\n",
      "Epoch 144/200\n",
      "94/94 [==============================] - 2s 24ms/step - loss: 0.2719 - accuracy: 0.9003 - val_loss: 0.3553 - val_accuracy: 0.8704\n",
      "Epoch 145/200\n",
      "94/94 [==============================] - 2s 23ms/step - loss: 0.2722 - accuracy: 0.8997 - val_loss: 0.3558 - val_accuracy: 0.8696\n",
      "Epoch 146/200\n",
      "94/94 [==============================] - 2s 21ms/step - loss: 0.2711 - accuracy: 0.9007 - val_loss: 0.3559 - val_accuracy: 0.8724\n",
      "Epoch 147/200\n",
      "94/94 [==============================] - 2s 21ms/step - loss: 0.2731 - accuracy: 0.8994 - val_loss: 0.3723 - val_accuracy: 0.8673\n",
      "Epoch 148/200\n",
      "94/94 [==============================] - 2s 19ms/step - loss: 0.2717 - accuracy: 0.9009 - val_loss: 0.3554 - val_accuracy: 0.8737\n",
      "Epoch 149/200\n",
      "94/94 [==============================] - 2s 23ms/step - loss: 0.2680 - accuracy: 0.9024 - val_loss: 0.3576 - val_accuracy: 0.8702\n",
      "Epoch 150/200\n",
      "94/94 [==============================] - 2s 23ms/step - loss: 0.2687 - accuracy: 0.9012 - val_loss: 0.3576 - val_accuracy: 0.8689\n",
      "Epoch 151/200\n",
      "94/94 [==============================] - 2s 24ms/step - loss: 0.2680 - accuracy: 0.9021 - val_loss: 0.3678 - val_accuracy: 0.8653\n",
      "Epoch 152/200\n",
      "94/94 [==============================] - 2s 25ms/step - loss: 0.2716 - accuracy: 0.9005 - val_loss: 0.3548 - val_accuracy: 0.8720\n",
      "Epoch 153/200\n",
      "94/94 [==============================] - 2s 24ms/step - loss: 0.2680 - accuracy: 0.9021 - val_loss: 0.3605 - val_accuracy: 0.8712\n",
      "Epoch 154/200\n",
      "94/94 [==============================] - 2s 25ms/step - loss: 0.2665 - accuracy: 0.9029 - val_loss: 0.3548 - val_accuracy: 0.8707\n",
      "Epoch 155/200\n",
      "94/94 [==============================] - 2s 25ms/step - loss: 0.2656 - accuracy: 0.9031 - val_loss: 0.3573 - val_accuracy: 0.8710\n",
      "Epoch 156/200\n",
      "94/94 [==============================] - 2s 26ms/step - loss: 0.2671 - accuracy: 0.9030 - val_loss: 0.3585 - val_accuracy: 0.8703\n",
      "Epoch 157/200\n",
      "94/94 [==============================] - 2s 27ms/step - loss: 0.2672 - accuracy: 0.9022 - val_loss: 0.3539 - val_accuracy: 0.8733\n",
      "Epoch 158/200\n",
      "94/94 [==============================] - 2s 26ms/step - loss: 0.2643 - accuracy: 0.9031 - val_loss: 0.3552 - val_accuracy: 0.8723\n",
      "Epoch 159/200\n",
      "94/94 [==============================] - 2s 25ms/step - loss: 0.2679 - accuracy: 0.9013 - val_loss: 0.3647 - val_accuracy: 0.8692\n",
      "Epoch 160/200\n",
      "94/94 [==============================] - 2s 26ms/step - loss: 0.2676 - accuracy: 0.9026 - val_loss: 0.3582 - val_accuracy: 0.8708\n",
      "Epoch 161/200\n",
      "94/94 [==============================] - 2s 26ms/step - loss: 0.2666 - accuracy: 0.9013 - val_loss: 0.3574 - val_accuracy: 0.8738\n",
      "Epoch 162/200\n",
      "94/94 [==============================] - 2s 25ms/step - loss: 0.2641 - accuracy: 0.9034 - val_loss: 0.3554 - val_accuracy: 0.8725\n",
      "Epoch 163/200\n",
      "94/94 [==============================] - 2s 25ms/step - loss: 0.2638 - accuracy: 0.9035 - val_loss: 0.3568 - val_accuracy: 0.8722\n",
      "Epoch 164/200\n",
      "94/94 [==============================] - 2s 24ms/step - loss: 0.2649 - accuracy: 0.9028 - val_loss: 0.3641 - val_accuracy: 0.8717\n",
      "Epoch 165/200\n",
      "94/94 [==============================] - 2s 25ms/step - loss: 0.2624 - accuracy: 0.9048 - val_loss: 0.3591 - val_accuracy: 0.8744\n",
      "Epoch 166/200\n",
      "94/94 [==============================] - 2s 24ms/step - loss: 0.2630 - accuracy: 0.9042 - val_loss: 0.3613 - val_accuracy: 0.8708\n",
      "Epoch 167/200\n",
      "94/94 [==============================] - 2s 24ms/step - loss: 0.2629 - accuracy: 0.9036 - val_loss: 0.3609 - val_accuracy: 0.8724\n",
      "Epoch 168/200\n",
      "94/94 [==============================] - 2s 25ms/step - loss: 0.2610 - accuracy: 0.9057 - val_loss: 0.3597 - val_accuracy: 0.8723\n",
      "Epoch 169/200\n",
      "94/94 [==============================] - 2s 24ms/step - loss: 0.2629 - accuracy: 0.9032 - val_loss: 0.3581 - val_accuracy: 0.8715\n",
      "Epoch 170/200\n",
      "94/94 [==============================] - 2s 25ms/step - loss: 0.2608 - accuracy: 0.9038 - val_loss: 0.3588 - val_accuracy: 0.8741\n",
      "Epoch 171/200\n",
      "94/94 [==============================] - 2s 25ms/step - loss: 0.2603 - accuracy: 0.9047 - val_loss: 0.3559 - val_accuracy: 0.8742\n"
     ]
    },
    {
     "name": "stdout",
     "output_type": "stream",
     "text": [
      "Epoch 172/200\n",
      "94/94 [==============================] - 2s 26ms/step - loss: 0.2611 - accuracy: 0.9045 - val_loss: 0.3583 - val_accuracy: 0.8717\n",
      "Epoch 173/200\n",
      "94/94 [==============================] - 2s 25ms/step - loss: 0.2590 - accuracy: 0.9057 - val_loss: 0.3615 - val_accuracy: 0.8726\n",
      "Epoch 174/200\n",
      "94/94 [==============================] - 2s 25ms/step - loss: 0.2599 - accuracy: 0.9056 - val_loss: 0.3549 - val_accuracy: 0.8746\n",
      "Epoch 175/200\n",
      "94/94 [==============================] - 2s 25ms/step - loss: 0.2599 - accuracy: 0.9041 - val_loss: 0.3574 - val_accuracy: 0.8729\n",
      "Epoch 176/200\n",
      "94/94 [==============================] - 2s 25ms/step - loss: 0.2603 - accuracy: 0.9052 - val_loss: 0.3652 - val_accuracy: 0.8704\n",
      "Epoch 177/200\n",
      "94/94 [==============================] - 2s 26ms/step - loss: 0.2598 - accuracy: 0.9050 - val_loss: 0.3578 - val_accuracy: 0.8735\n",
      "Epoch 178/200\n",
      "94/94 [==============================] - 2s 21ms/step - loss: 0.2607 - accuracy: 0.9042 - val_loss: 0.3594 - val_accuracy: 0.8729\n",
      "Epoch 179/200\n",
      "94/94 [==============================] - 2s 24ms/step - loss: 0.2598 - accuracy: 0.9045 - val_loss: 0.3616 - val_accuracy: 0.8726\n",
      "Epoch 180/200\n",
      "94/94 [==============================] - 2s 24ms/step - loss: 0.2575 - accuracy: 0.9056 - val_loss: 0.3704 - val_accuracy: 0.8676\n",
      "Epoch 181/200\n",
      "94/94 [==============================] - 2s 25ms/step - loss: 0.2570 - accuracy: 0.9065 - val_loss: 0.3612 - val_accuracy: 0.8715\n",
      "Epoch 182/200\n",
      "94/94 [==============================] - 2s 24ms/step - loss: 0.2567 - accuracy: 0.9072 - val_loss: 0.3586 - val_accuracy: 0.8732\n",
      "Epoch 183/200\n",
      "94/94 [==============================] - 2s 24ms/step - loss: 0.2559 - accuracy: 0.9062 - val_loss: 0.3660 - val_accuracy: 0.8703\n",
      "Epoch 184/200\n",
      "94/94 [==============================] - 2s 25ms/step - loss: 0.2573 - accuracy: 0.9070 - val_loss: 0.3612 - val_accuracy: 0.8740\n",
      "Epoch 185/200\n",
      "94/94 [==============================] - 2s 26ms/step - loss: 0.2565 - accuracy: 0.9062 - val_loss: 0.3570 - val_accuracy: 0.8751\n",
      "Epoch 186/200\n",
      "94/94 [==============================] - 2s 25ms/step - loss: 0.2548 - accuracy: 0.9070 - val_loss: 0.3639 - val_accuracy: 0.8721\n",
      "Epoch 187/200\n",
      "94/94 [==============================] - 2s 24ms/step - loss: 0.2562 - accuracy: 0.9062 - val_loss: 0.3568 - val_accuracy: 0.8741\n",
      "Epoch 188/200\n",
      "94/94 [==============================] - 2s 26ms/step - loss: 0.2537 - accuracy: 0.9074 - val_loss: 0.3588 - val_accuracy: 0.8762\n",
      "Epoch 189/200\n",
      "94/94 [==============================] - 2s 25ms/step - loss: 0.2536 - accuracy: 0.9074 - val_loss: 0.3645 - val_accuracy: 0.8703\n",
      "Epoch 190/200\n",
      "94/94 [==============================] - 2s 25ms/step - loss: 0.2556 - accuracy: 0.9070 - val_loss: 0.3603 - val_accuracy: 0.8724\n",
      "Epoch 191/200\n",
      "94/94 [==============================] - 2s 25ms/step - loss: 0.2551 - accuracy: 0.9062 - val_loss: 0.3605 - val_accuracy: 0.8723\n",
      "Epoch 192/200\n",
      "94/94 [==============================] - 2s 24ms/step - loss: 0.2546 - accuracy: 0.9071 - val_loss: 0.3602 - val_accuracy: 0.8720\n",
      "Epoch 193/200\n",
      "94/94 [==============================] - 2s 24ms/step - loss: 0.2517 - accuracy: 0.9079 - val_loss: 0.3576 - val_accuracy: 0.8749\n",
      "Epoch 194/200\n",
      "94/94 [==============================] - 2s 24ms/step - loss: 0.2518 - accuracy: 0.9078 - val_loss: 0.3623 - val_accuracy: 0.8729\n",
      "Epoch 195/200\n",
      "94/94 [==============================] - 2s 24ms/step - loss: 0.2521 - accuracy: 0.9082 - val_loss: 0.3634 - val_accuracy: 0.8714\n",
      "Epoch 196/200\n",
      "94/94 [==============================] - 2s 24ms/step - loss: 0.2536 - accuracy: 0.9074 - val_loss: 0.3669 - val_accuracy: 0.8710\n",
      "Epoch 197/200\n",
      "94/94 [==============================] - 2s 24ms/step - loss: 0.2511 - accuracy: 0.9080 - val_loss: 0.3607 - val_accuracy: 0.8712\n",
      "Epoch 198/200\n",
      "94/94 [==============================] - 2s 24ms/step - loss: 0.2505 - accuracy: 0.9091 - val_loss: 0.3585 - val_accuracy: 0.8746\n",
      "Epoch 199/200\n",
      "94/94 [==============================] - 2s 25ms/step - loss: 0.2515 - accuracy: 0.9087 - val_loss: 0.3664 - val_accuracy: 0.8714\n",
      "Epoch 200/200\n",
      "94/94 [==============================] - 2s 25ms/step - loss: 0.2523 - accuracy: 0.9072 - val_loss: 0.3699 - val_accuracy: 0.8741\n"
     ]
    },
    {
     "data": {
      "text/plain": [
       "<keras.callbacks.History at 0x1efa8e6c160>"
      ]
     },
     "execution_count": 57,
     "metadata": {},
     "output_type": "execute_result"
    }
   ],
   "source": [
    "\n",
    "cnn_model.fit(X_train,y_train,batch_size =512,epochs = epochs,verbose = 1,validation_data = (X_validate,y_validate) )"
   ]
  },
  {
   "cell_type": "code",
   "execution_count": 63,
   "metadata": {
    "colab": {
     "base_uri": "https://localhost:8080/"
    },
    "id": "OdPP1tCx7yXa",
    "outputId": "804a407c-7d47-4af4-fc84-b69b610c33ce"
   },
   "outputs": [
    {
     "name": "stdout",
     "output_type": "stream",
     "text": [
      "313/313 [==============================] - 1s 3ms/step - loss: 0.3462 - accuracy: 0.8771\n",
      "Test Accuracy : 0.346\n"
     ]
    }
   ],
   "source": [
    "evaluation = cnn_model.evaluate(X_test,y_test)\n",
    "print('Test Accuracy : {:.3f}'.format(evaluation[0]))"
   ]
  },
  {
   "cell_type": "code",
   "execution_count": 64,
   "metadata": {
    "colab": {
     "base_uri": "https://localhost:8080/"
    },
    "id": "upogqyEZ76TZ",
    "outputId": "35ada5cd-9f2c-4fdf-d534-79af9291c4e1"
   },
   "outputs": [
    {
     "name": "stdout",
     "output_type": "stream",
     "text": [
      "313/313 [==============================] - 1s 3ms/step\n"
     ]
    }
   ],
   "source": [
    "predicted_classes = np.argmax(cnn_model.predict(X_test),axis=-1)\n"
   ]
  },
  {
   "cell_type": "code",
   "execution_count": 60,
   "metadata": {
    "colab": {
     "base_uri": "https://localhost:8080/"
    },
    "id": "LmJsMlvr86e5",
    "outputId": "142586bb-d722-449d-c122-e426e5697763"
   },
   "outputs": [
    {
     "data": {
      "text/plain": [
       "array([0, 1, 2, ..., 8, 8, 1], dtype=int64)"
      ]
     },
     "execution_count": 60,
     "metadata": {},
     "output_type": "execute_result"
    }
   ],
   "source": [
    "predicted_classes"
   ]
  },
  {
   "cell_type": "code",
   "execution_count": 61,
   "metadata": {
    "colab": {
     "base_uri": "https://localhost:8080/",
     "height": 697
    },
    "id": "E5AyGxXc8_aH",
    "outputId": "f17d603b-1be7-4345-fbc5-0c34f53e0b92"
   },
   "outputs": [
    {
     "data": {
      "image/png": "[encoded data removed]",
      "text/plain": [
       "<Figure size 864x864 with 25 Axes>"
      ]
     },
     "metadata": {
      "needs_background": "light"
     },
     "output_type": "display_data"
    }
   ],
   "source": [
    "L = 5\n",
    "W = 5\n",
    "\n",
    "fig,axes = plt.subplots(L,W,figsize = (12,12))\n",
    "axes = axes.ravel()\n",
    "for i in np.arange(0,L*W):\n",
    "    axes[i].imshow(X_test[i].reshape(28,28))\n",
    "    axes[i].set_title('Prediction Class:{1} \\n true class: {1}'.format(predicted_classes[i],y_test[i]))\n",
    "    axes[i].axis('off')\n",
    "plt.subplots_adjust(wspace = 0.5)  "
   ]
  },
  {
   "cell_type": "code",
   "execution_count": 62,
   "metadata": {
    "colab": {
     "base_uri": "https://localhost:8080/"
    },
    "id": "1j24BwIxPdeR",
    "outputId": "21b80c6e-99c4-4e22-fb17-f504e5682e32"
   },
   "outputs": [
    {
     "name": "stdout",
     "output_type": "stream",
     "text": [
      "              precision    recall  f1-score   support\n",
      "\n",
      "     Class 0       0.78      0.87      0.83      1000\n",
      "     Class 1       0.97      0.98      0.97      1000\n",
      "     Class 2       0.81      0.80      0.80      1000\n",
      "     Class 3       0.91      0.90      0.91      1000\n",
      "     Class 4       0.73      0.89      0.81      1000\n",
      "     Class 5       0.96      0.95      0.96      1000\n",
      "     Class 6       0.74      0.51      0.60      1000\n",
      "     Class 7       0.93      0.94      0.94      1000\n",
      "     Class 8       0.96      0.97      0.97      1000\n",
      "     Class 9       0.95      0.94      0.95      1000\n",
      "\n",
      "    accuracy                           0.88     10000\n",
      "   macro avg       0.88      0.88      0.87     10000\n",
      "weighted avg       0.88      0.88      0.87     10000\n",
      "\n"
     ]
    }
   ],
   "source": [
    "from sklearn.metrics import classification_report\n",
    "\n",
    "classes = 10\n",
    "targets = [\"Class {}\".format(i) for i in range(classes)]\n",
    "print(classification_report(y_test, predicted_classes, target_names = targets))"
   ]
  },
  {
   "cell_type": "code",
   "execution_count": null,
   "metadata": {},
   "outputs": [],
   "source": []
  }
 ],
 "metadata": {
  "colab": {
   "provenance": []
  },
  "kernelspec": {
   "display_name": "Python 3 (ipykernel)",
   "language": "python",
   "name": "python3"
  },
  "language_info": {
   "codemirror_mode": {
    "name": "ipython",
    "version": 3
   },
   "file_extension": ".py",
   "mimetype": "text/x-python",
   "name": "python",
   "nbconvert_exporter": "python",
   "pygments_lexer": "ipython3",
   "version": "3.9.7"
  }
 },
 "nbformat": 4,
 "nbformat_minor": 1
}
