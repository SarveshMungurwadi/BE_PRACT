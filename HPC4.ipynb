{
  "nbformat": 4,
  "nbformat_minor": 0,
  "metadata": {
    "colab": {
      "provenance": [],
      "gpuType": "T4"
    },
    "kernelspec": {
      "name": "python3",
      "display_name": "Python 3"
    },
    "language_info": {
      "name": "python"
    },
    "accelerator": "GPU"
  },
  "cells": [
    {
      "cell_type": "code",
      "source": [],
      "metadata": {
        "id": "-zAIDuLHaz0C"
      },
      "execution_count": null,
      "outputs": []
    },
    {
      "cell_type": "code",
      "execution_count": null,
      "metadata": {
        "colab": {
          "base_uri": "https://localhost:8080/"
        },
        "id": "03awZlubkIPt",
        "outputId": "10cd5a5a-6f37-4ed3-c36e-6345715d0c69"
      },
      "outputs": [
        {
          "output_type": "stream",
          "name": "stdout",
          "text": [
            "Looking in indexes: https://pypi.org/simple, https://us-python.pkg.dev/colab-wheels/public/simple/\n",
            "Collecting git+https://github.com/andreinechaev/nvcc4jupyter.git\n",
            "  Cloning https://github.com/andreinechaev/nvcc4jupyter.git to /tmp/pip-req-build-aa79t4y7\n",
            "  Running command git clone --filter=blob:none --quiet https://github.com/andreinechaev/nvcc4jupyter.git /tmp/pip-req-build-aa79t4y7\n",
            "  Resolved https://github.com/andreinechaev/nvcc4jupyter.git to commit aac710a35f52bb78ab34d2e52517237941399eff\n",
            "  Preparing metadata (setup.py) ... \u001b[?25l\u001b[?25hdone\n",
            "Building wheels for collected packages: NVCCPlugin\n",
            "  Building wheel for NVCCPlugin (setup.py) ... \u001b[?25l\u001b[?25hdone\n",
            "  Created wheel for NVCCPlugin: filename=NVCCPlugin-0.0.2-py3-none-any.whl size=4287 sha256=18c793f9a35f45d04db935713095f4b2b6a5d6c2634f8b97683bda04201619d7\n",
            "  Stored in directory: /tmp/pip-ephem-wheel-cache-2_gw6cud/wheels/a8/b9/18/23f8ef71ceb0f63297dd1903aedd067e6243a68ea756d6feea\n",
            "Successfully built NVCCPlugin\n",
            "Installing collected packages: NVCCPlugin\n",
            "Successfully installed NVCCPlugin-0.0.2\n"
          ]
        }
      ],
      "source": [
        "!pip install git+https://github.com/andreinechaev/nvcc4jupyter.git"
      ]
    },
    {
      "cell_type": "code",
      "source": [
        "%load_ext nvcc_plugin"
      ],
      "metadata": {
        "colab": {
          "base_uri": "https://localhost:8080/"
        },
        "id": "KWCNWgrqkNUA",
        "outputId": "6e5859d3-b258-42de-b4df-09f45a414995"
      },
      "execution_count": null,
      "outputs": [
        {
          "output_type": "stream",
          "name": "stdout",
          "text": [
            "created output directory at /content/src\n",
            "Out bin /content/result.out\n"
          ]
        }
      ]
    },
    {
      "cell_type": "code",
      "source": [
        "%%cu\n",
        "#include<stdio.h>\n",
        "#include<iostream>\n",
        "#include<cuda.h>\n",
        "using namespace std;\n",
        "__global__ void arradd(int *x,int *y, int *z)\n",
        "{\n",
        "    int id=blockIdx.x * blockDim.x+threadIdx.x;\n",
        "    z[id]=x[id]+y[id];\n",
        "}\n",
        "int main()\n",
        "{\n",
        "    int a[6]={1,2,3,4,7,9};\n",
        "    int b[6]={1,2,3,4,9,7};\n",
        "    int c[6];\n",
        "    int *d,*e,*f;\n",
        "    int i;\n",
        "    cudaMalloc((void **)&d,6*sizeof(int));\n",
        "    cudaMalloc((void **)&e,6*sizeof(int));\n",
        "    cudaMalloc((void **)&f,6*sizeof(int));\n",
        " cudaMemcpy(d,a,6*sizeof(int),cudaMemcpyHostToDevice);\n",
        " cudaMemcpy(e,b,6*sizeof(int),cudaMemcpyHostToDevice);\n",
        "    arradd<<<2,3>>>(d,e,f);\n",
        " cudaMemcpy(c,f,6*sizeof(int),cudaMemcpyDeviceToHost);\n",
        "    printf(\"\\nSum of two arrays:\\n \");\n",
        "    for(i=0;i<6;i++)\n",
        "    {\n",
        "        cout<<c[i]<<\" \";\n",
        "    }\n",
        "    cudaFree(d);\n",
        "    cudaFree(e);\n",
        "    cudaFree(f);\n",
        "    return 0;\n",
        "}\n"
      ],
      "metadata": {
        "colab": {
          "base_uri": "https://localhost:8080/"
        },
        "id": "p2-MqPt4oFQq",
        "outputId": "d5a7385e-4e82-406e-90f1-356c89830c72"
      },
      "execution_count": null,
      "outputs": [
        {
          "output_type": "stream",
          "name": "stdout",
          "text": [
            "\n",
            "Sum of two arrays:\n",
            " 2 4 6 8 16 16 \n"
          ]
        }
      ]
    },
    {
      "cell_type": "code",
      "source": [],
      "metadata": {
        "id": "go29q9gUsJFn"
      },
      "execution_count": null,
      "outputs": []
    },
    {
      "cell_type": "code",
      "source": [
        "%%cu\n",
        "#include<stdio.h>\n",
        "#include<cuda.h>\n",
        "#define row1 2 \n",
        "#define col1 3 \n",
        "#define row2 3 \n",
        "#define col2 2\n",
        "\n",
        "\n",
        "__global__ void matproduct(int *l,int *m, int *n)\n",
        "{\n",
        "    int x=blockIdx.x;\n",
        "    int y=blockIdx.y;\n",
        "    int k;\n",
        "  \n",
        "n[col2*y+x]=0;\n",
        "for(k=0;k<col1;k++)\n",
        "   {\n",
        "    n[col2*y+x]=n[col2*y+x]+l[col1*y+k]*m[col2*k+x];\n",
        "   }\n",
        "}\n",
        "\n",
        "int main()\n",
        "{\n",
        "    int a[row1][col1];\n",
        "    int b[row2][col2];\n",
        "    int c[row1][col2];\n",
        "    int *d,*e,*f;\n",
        "    int i,j;\n",
        "\n",
        "    printf(\"\\n Enter elements of first matrix of size 2*3\\n\");\n",
        "    int k=1;\n",
        "    for(i=0;i<row1;i++)\n",
        "    {\n",
        "        for(j=0;j<col1;j++)\n",
        "            {\n",
        "                a[i][j]= k;\n",
        "                k++;\n",
        "            }\n",
        "    }\n",
        "    for(i=0;i<row1;i++)\n",
        "    {\n",
        "        for(j=0;j<col1;j++)\n",
        "        {\n",
        "              printf(\"%d\\t\",a[i][j]);\n",
        "        }\n",
        "        printf(\"\\n\");\n",
        "    }\n",
        " \n",
        "    printf(\"\\n Enter elements of second matrix of size 3*2\\n\");\n",
        "        for(i=0;i<row2;i++)\n",
        "        {\n",
        "            for(j=0;j<col2;j++)\n",
        "                {\n",
        "                    b[i][j]=k;\n",
        "                    k++;\n",
        "                }\n",
        "        }\n",
        "        for(i=0;i<row2;i++)\n",
        "    {\n",
        "        for(j=0;j<col2;j++)\n",
        "        {\n",
        "              printf(\"%d\\t\",b[i][j]);\n",
        "        }\n",
        "        printf(\"\\n\");\n",
        "    }\n",
        "\n",
        "    cudaMalloc((void **)&d,row1*col1*sizeof(int));\n",
        "    cudaMalloc((void **)&e,row2*col2*sizeof(int));\n",
        "    cudaMalloc((void **)&f,row1*col2*sizeof(int));\n",
        "\n",
        " cudaMemcpy(d,a,row1*col1*sizeof(int),cudaMemcpyHostToDevice);\n",
        " cudaMemcpy(e,b,row2*col2*sizeof(int),cudaMemcpyHostToDevice);\n",
        "\n",
        "dim3 grid(col2,row1);\n",
        "\n",
        "    matproduct<<<grid,1>>>(d,e,f);\n",
        "\n",
        " cudaMemcpy(c,f,row1*col2*sizeof(int),cudaMemcpyDeviceToHost);\n",
        "    printf(\"\\nProduct of two matrices:\\n \");\n",
        "    for(i=0;i<row1;i++)\n",
        "    {\n",
        "        for(j=0;j<col2;j++)\n",
        "        {\n",
        "              printf(\"%d\\t\",c[i][j]);\n",
        "        }\n",
        "        printf(\"\\n\");\n",
        "    }\n",
        "\n",
        "    cudaFree(d);\n",
        "    cudaFree(e);\n",
        "    cudaFree(f);\n",
        "\n",
        "    return 0;\n",
        "}"
      ],
      "metadata": {
        "colab": {
          "base_uri": "https://localhost:8080/"
        },
        "id": "iiJFr00WvA8O",
        "outputId": "127ac436-9756-4219-c756-b4d58acd562a"
      },
      "execution_count": null,
      "outputs": [
        {
          "output_type": "stream",
          "name": "stdout",
          "text": [
            "\n",
            " Enter elements of first matrix of size 2*3\n",
            "1\t2\t3\t\n",
            "4\t5\t6\t\n",
            "\n",
            " Enter elements of second matrix of size 3*2\n",
            "7\t8\t\n",
            "9\t10\t\n",
            "11\t12\t\n",
            "\n",
            "Product of two matrices:\n",
            " 58\t64\t\n",
            "139\t154\t\n",
            "\n"
          ]
        }
      ]
    },
    {
      "cell_type": "code",
      "source": [],
      "metadata": {
        "id": "-r54iHjlzX4Z"
      },
      "execution_count": null,
      "outputs": []
    },
    {
      "cell_type": "code",
      "source": [],
      "metadata": {
        "id": "UJX335eNMQOM"
      },
      "execution_count": null,
      "outputs": []
    },
    {
      "cell_type": "code",
      "source": [],
      "metadata": {
        "id": "pALTL1IVOBlx"
      },
      "execution_count": null,
      "outputs": []
    },
    {
      "cell_type": "code",
      "source": [],
      "metadata": {
        "id": "DIMwhmfTOEym"
      },
      "execution_count": null,
      "outputs": []
    },
    {
      "cell_type": "code",
      "source": [],
      "metadata": {
        "id": "fPToo25WOGti"
      },
      "execution_count": null,
      "outputs": []
    },
    {
      "cell_type": "code",
      "source": [],
      "metadata": {
        "id": "9k3A2VBXOZ6p"
      },
      "execution_count": null,
      "outputs": []
    }
  ]
}